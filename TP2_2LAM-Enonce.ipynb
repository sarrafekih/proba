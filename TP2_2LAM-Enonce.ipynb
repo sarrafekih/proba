{
 "cells": [
  {
   "cell_type": "markdown",
   "metadata": {},
   "source": [
    "<center><h1> Compte rendu TP2 </h1></center>"
   ]
  },
  {
   "cell_type": "markdown",
   "metadata": {},
   "source": [
    "# Simulation du jeux de LIDO simplifié"
   ]
  },
  {
   "cell_type": "markdown",
   "metadata": {},
   "source": [
    "## Principe\n",
    "On considére un jeux de Lido simple:\n",
    "on dispose d'un un seul pion.\n",
    "\n",
    "- Etape 0 :\n",
    "Le pion doit sort de sa prison lorsqu'on obtient un 6.\n",
    "\n",
    "- Etape 1 :\n",
    "Le pion doit atteindre exactement une position cible situé à N pas de distance de sa prison \n",
    "\n",
    "Soit $X_n$ la variable aléatoire qui represente le nombre de coup nécéssaire pour atteindre la positions cible.\n",
    "\n",
    "**Objectif 1** : Simuler le jeux \n",
    "\n",
    "**Objectif 2** : Calculer une estimation de l'éspérance mathématique de $X_n$ en utilisant `python`\n",
    "\n",
    "**Objéctif 3** : Observer la variation de $\\mathbb{E}(X_n)$ en fonction de $n$\n",
    "\n",
    "<img src=\"LIDO.png\">\n"
   ]
  },
  {
   "cell_type": "code",
   "execution_count": 3,
   "metadata": {},
   "outputs": [],
   "source": [
    "import numpy as np"
   ]
  },
  {
   "cell_type": "markdown",
   "metadata": {},
   "source": [
    "### Simulation du lancé de dé"
   ]
  },
  {
   "cell_type": "code",
   "execution_count": 4,
   "metadata": {},
   "outputs": [],
   "source": [
    "def Roll():\n",
    "    return int(np.random.choice(range(1,7),1))"
   ]
  },
  {
   "cell_type": "code",
   "execution_count": 5,
   "metadata": {},
   "outputs": [
    {
     "data": {
      "text/plain": [
       "3"
      ]
     },
     "execution_count": 5,
     "metadata": {},
     "output_type": "execute_result"
    }
   ],
   "source": [
    "Roll()"
   ]
  },
  {
   "cell_type": "markdown",
   "metadata": {},
   "source": [
    "### Compléter le code et commenter"
   ]
  },
  {
   "cell_type": "code",
   "execution_count": 6,
   "metadata": {
    "scrolled": false
   },
   "outputs": [
    {
     "name": "stdout",
     "output_type": "stream",
     "text": [
      "temp= 6 |NA= 0 A= 1\n",
      "temp= 3 |NA= 1 A= 1\n",
      "temp= 3 |NA= 1 A= 4\n",
      "temp= 2 |NA= 2 A= 4\n",
      "temp= 2 |NA= 2 A= 6\n",
      "temp= 6 |NA= 3 A= 6\n",
      "temp= 6 |NA= 3 A= 6\n",
      "temp= 6 |NA= 4 A= 6\n",
      "temp= 6 |NA= 4 A= 6\n",
      "temp= 6 |NA= 5 A= 6\n",
      "temp= 6 |NA= 5 A= 6\n",
      "temp= 1 |NA= 6 A= 6\n",
      "temp= 1 |NA= 6 A= 7\n",
      "temp= 2 |NA= 7 A= 7\n",
      "temp= 2 |NA= 7 A= 9\n",
      "temp= 3 |NA= 8 A= 9\n",
      "temp= 3 |NA= 8 A= 9\n",
      "temp= 4 |NA= 9 A= 9\n",
      "temp= 4 |NA= 9 A= 9\n",
      "temp= 6 |NA= 10 A= 9\n",
      "temp= 6 |NA= 10 A= 9\n",
      "temp= 1 |NA= 11 A= 9\n"
     ]
    }
   ],
   "source": [
    "NA,A,S=0,0,10\n",
    "temp=Roll()\n",
    "while temp!=6:\n",
    "    NA=NA+1 #nb essais ykadem\n",
    "    temp=Roll()\n",
    "    print(\"temp=\",temp,\"|NA=\",NA,\"A=\",A)\n",
    "A=1\n",
    "print(\"temp=\",temp,\"|NA=\",NA,\"A=\",A)\n",
    "while A!=S:\n",
    "    temp=Roll()\n",
    "    NA=NA+1\n",
    "    print(\"temp=\",temp,\"|NA=\",NA,\"A=\",A)\n",
    "    if A+temp<S:\n",
    "        A=A+temp\n",
    "        print(\"temp=\",temp,\"|NA=\",NA,\"A=\",A)\n",
    "    elif A+temp==S:\n",
    "        A=S\n",
    "    else:\n",
    "        print(\"temp=\",temp,\"|NA=\",NA,\"A=\",A)\n",
    "        continue"
   ]
  },
  {
   "cell_type": "markdown",
   "metadata": {},
   "source": [
    "# Conclusion 1\n",
    "**Soit :**\n",
    "* **NA** : Nombre de coup `(d'essais)`\n",
    "* **A** : Somme courante\n",
    "\n",
    "En jettant le dé la valeur obtenu sera ajouté a A `(boucle while)` jusqu'a obtenir la valeur voulu S.                 "
   ]
  },
  {
   "cell_type": "markdown",
   "metadata": {},
   "source": [
    "### Simulation\n",
    "Ecrire une foction `sim` qui simule le jeux et qui prend comme variable le nombre de pas $n$ nécessazire pour atteindre la cible"
   ]
  },
  {
   "cell_type": "code",
   "execution_count": 7,
   "metadata": {},
   "outputs": [],
   "source": [
    "def sim(S):\n",
    "    A=0\n",
    "    NA=0\n",
    "    temp=Roll()\n",
    "    NA=1\n",
    "    while (temp<6) :\n",
    "        NA=NA+1\n",
    "        temp=Roll()\n",
    "        #print(temp,NA,A)\n",
    "    A=1\n",
    "    #print(temp,NA,A)\n",
    "    while A!=S:\n",
    "        temp=Roll()\n",
    "        NA=NA+1\n",
    "        #print(temp,NA,A)\n",
    "        if A+temp<S:\n",
    "            A=A+temp\n",
    "            #print(temp,NA,A)\n",
    "        elif A+temp==S:\n",
    "            A=S\n",
    "            #print(temp,NA,A)\n",
    "    return NA\n",
    "    "
   ]
  },
  {
   "cell_type": "code",
   "execution_count": 8,
   "metadata": {},
   "outputs": [
    {
     "data": {
      "text/plain": [
       "22"
      ]
     },
     "execution_count": 8,
     "metadata": {},
     "output_type": "execute_result"
    }
   ],
   "source": [
    "sim(20)"
   ]
  },
  {
   "cell_type": "markdown",
   "metadata": {},
   "source": [
    "# Conclusion 2 \n",
    "Tand que **A#S** `faire`:\n",
    "\n",
    "* A recoit **A +la valeur de la face obtenu après le lancement du dé** que temp la mit.\n",
    "      "
   ]
  },
  {
   "cell_type": "markdown",
   "metadata": {},
   "source": [
    "### Simulation de $10^5$  scénario "
   ]
  },
  {
   "cell_type": "code",
   "execution_count": 9,
   "metadata": {},
   "outputs": [],
   "source": [
    "Freq=np.fromiter((sim(20) for i in range(10**4)),dtype=int)"
   ]
  },
  {
   "cell_type": "code",
   "execution_count": 10,
   "metadata": {},
   "outputs": [
    {
     "data": {
      "text/plain": [
       "1.61488"
      ]
     },
     "execution_count": 10,
     "metadata": {},
     "output_type": "execute_result"
    }
   ],
   "source": [
    "ESP=Freq.sum()/10**5\n",
    "ESP"
   ]
  },
  {
   "cell_type": "code",
   "execution_count": 11,
   "metadata": {},
   "outputs": [],
   "source": [
    "x=list(range(10,20))"
   ]
  },
  {
   "cell_type": "code",
   "execution_count": 12,
   "metadata": {},
   "outputs": [],
   "source": [
    "y=[np.fromiter((sim(u) for i in range(10**4)),dtype=int).sum()/10000 for u in x]"
   ]
  },
  {
   "cell_type": "code",
   "execution_count": 13,
   "metadata": {},
   "outputs": [],
   "source": [
    "import matplotlib.pyplot as plt"
   ]
  },
  {
   "cell_type": "code",
   "execution_count": 21,
   "metadata": {},
   "outputs": [
    {
     "data": {
      "text/plain": [
       "[<matplotlib.lines.Line2D at 0x1b0e75269d0>]"
      ]
     },
     "execution_count": 21,
     "metadata": {},
     "output_type": "execute_result"
    },
    {
     "data": {
      "image/png": "[encoded data removed]",
      "text/plain": [
       "<Figure size 432x288 with 1 Axes>"
      ]
     },
     "metadata": {
      "needs_background": "light"
     },
     "output_type": "display_data"
    }
   ],
   "source": [
    "plt.plot(x,y)"
   ]
  },
  {
   "cell_type": "code",
   "execution_count": 22,
   "metadata": {},
   "outputs": [],
   "source": [
    "from scipy import stats\n",
    "import numpy as np\n",
    "slope, intercept, r_value, p_value, std_err = stats.linregress(x,y)"
   ]
  },
  {
   "cell_type": "code",
   "execution_count": 23,
   "metadata": {},
   "outputs": [
    {
     "data": {
      "text/plain": [
       "0.29741757575757566"
      ]
     },
     "execution_count": 23,
     "metadata": {},
     "output_type": "execute_result"
    }
   ],
   "source": [
    "slope"
   ]
  },
  {
   "cell_type": "code",
   "execution_count": 24,
   "metadata": {},
   "outputs": [
    {
     "data": {
      "text/plain": [
       "10.267235151515152"
      ]
     },
     "execution_count": 24,
     "metadata": {},
     "output_type": "execute_result"
    }
   ],
   "source": [
    "intercept\n"
   ]
  },
  {
   "cell_type": "code",
   "execution_count": 25,
   "metadata": {},
   "outputs": [],
   "source": [
    "yy=[slope*u+intercept for u in x]"
   ]
  },
  {
   "cell_type": "code",
   "execution_count": 26,
   "metadata": {},
   "outputs": [
    {
     "data": {
      "text/plain": [
       "[<matplotlib.lines.Line2D at 0x1b0e757ce50>,\n",
       " <matplotlib.lines.Line2D at 0x1b0e757ce80>]"
      ]
     },
     "execution_count": 26,
     "metadata": {},
     "output_type": "execute_result"
    },
    {
     "data": {
      "image/png": "[encoded data removed]",
      "text/plain": [
       "<Figure size 432x288 with 1 Axes>"
      ]
     },
     "metadata": {
      "needs_background": "light"
     },
     "output_type": "display_data"
    }
   ],
   "source": [
    "plt.plot(x,y,'*',x,yy,'r-')"
   ]
  },
  {
   "cell_type": "markdown",
   "metadata": {},
   "source": [
    "# Conclusion 3\n",
    "\n",
    "Le **but** c'est d'avoir `l'estimation moyenne` et on a fait le `plot` pour essayer de dégager **une relation math** sous forme de **droite** (relation entre x et y ) et la droite rouge (qui passe presque par le points) confirme.\n",
    "Donc on peut `estimer` quelque soit la valeur de S `le nombre de coup au moyenne`."
   ]
  },
  {
   "cell_type": "code",
   "execution_count": null,
   "metadata": {},
   "outputs": [],
   "source": []
  }
 ],
 "metadata": {
  "kernelspec": {
   "display_name": "Python 3",
   "language": "python",
   "name": "python3"
  },
  "language_info": {
   "codemirror_mode": {
    "name": "ipython",
    "version": 3
   },
   "file_extension": ".py",
   "mimetype": "text/x-python",
   "name": "python",
   "nbconvert_exporter": "python",
   "pygments_lexer": "ipython3",
   "version": "3.8.5"
  }
 },
 "nbformat": 4,
 "nbformat_minor": 4
}
